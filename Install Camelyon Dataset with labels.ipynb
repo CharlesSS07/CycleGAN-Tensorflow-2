{
 "cells": [
  {
   "cell_type": "code",
   "execution_count": 1,
   "metadata": {},
   "outputs": [],
   "source": [
    "import glob"
   ]
  },
  {
   "cell_type": "code",
   "execution_count": 2,
   "metadata": {},
   "outputs": [],
   "source": [
    "import numpy as np"
   ]
  },
  {
   "cell_type": "code",
   "execution_count": 3,
   "metadata": {},
   "outputs": [],
   "source": [
    "tile_paths = np.sort(glob.glob('/home/cstrauss2/Cancer16_AE/train16_L3/*/*png'))"
   ]
  },
  {
   "cell_type": "code",
   "execution_count": 4,
   "metadata": {},
   "outputs": [],
   "source": [
    "test_tile_paths = np.sort(glob.glob('/home/cstrauss2/Cancer16_AE/train16_L3/tumor/tumor_110*png'))"
   ]
  },
  {
   "cell_type": "code",
   "execution_count": 5,
   "metadata": {},
   "outputs": [
    {
     "data": {
      "text/plain": [
       "(array(['/home/cstrauss2/Cancer16_AE/train16_L3/normal/normal_001_32768_81920.png',\n",
       "        '/home/cstrauss2/Cancer16_AE/train16_L3/normal/normal_001_32768_90112.png',\n",
       "        '/home/cstrauss2/Cancer16_AE/train16_L3/normal/normal_001_32768_98304.png',\n",
       "        ...,\n",
       "        '/home/cstrauss2/Cancer16_AE/train16_L3/tumor/tumor_111_73728_98304.png',\n",
       "        '/home/cstrauss2/Cancer16_AE/train16_L3/tumor/tumor_111_8192_131072.png',\n",
       "        '/home/cstrauss2/Cancer16_AE/train16_L3/tumor/tumor_111_8192_139264.png'],\n",
       "       dtype='<U74'), array([], dtype=float64))"
      ]
     },
     "execution_count": 5,
     "metadata": {},
     "output_type": "execute_result"
    }
   ],
   "source": [
    "tile_paths, test_tile_paths"
   ]
  },
  {
   "cell_type": "code",
   "execution_count": 6,
   "metadata": {},
   "outputs": [],
   "source": [
    "from PIL import Image"
   ]
  },
  {
   "cell_type": "code",
   "execution_count": 7,
   "metadata": {},
   "outputs": [],
   "source": [
    "import os"
   ]
  },
  {
   "cell_type": "code",
   "execution_count": 8,
   "metadata": {},
   "outputs": [],
   "source": [
    "root_data_folder = 'datasets/camelyon16_2labels/'"
   ]
  },
  {
   "cell_type": "code",
   "execution_count": 9,
   "metadata": {},
   "outputs": [],
   "source": [
    "if os.path.isdir(root_data_folder):\n",
    "    !rm -r $root_data_folder"
   ]
  },
  {
   "cell_type": "code",
   "execution_count": 10,
   "metadata": {},
   "outputs": [],
   "source": [
    "!mkdir -p $root_data_folder"
   ]
  },
  {
   "cell_type": "code",
   "execution_count": 11,
   "metadata": {},
   "outputs": [],
   "source": [
    "folder_A = os.path.join(root_data_folder, 'trainA')\n",
    "folder_B = os.path.join(root_data_folder, 'trainB')\n",
    "folder_A_test = os.path.join(root_data_folder, 'testA')\n",
    "folder_B_test = os.path.join(root_data_folder, 'testB')"
   ]
  },
  {
   "cell_type": "code",
   "execution_count": 12,
   "metadata": {},
   "outputs": [],
   "source": [
    "!mkdir -p $folder_A $folder_A_test $folder_B $folder_B_test"
   ]
  },
  {
   "cell_type": "code",
   "execution_count": 13,
   "metadata": {},
   "outputs": [
    {
     "name": "stdout",
     "output_type": "stream",
     "text": [
      "testA  testB  trainA  trainB\r\n"
     ]
    }
   ],
   "source": [
    "!ls $root_data_folder"
   ]
  },
  {
   "cell_type": "code",
   "execution_count": 14,
   "metadata": {},
   "outputs": [
    {
     "name": "stderr",
     "output_type": "stream",
     "text": [
      "/home/cstrauss2/.conda/envs/tfcondaenv.001.bk/lib/python3.7/site-packages/ipykernel_launcher.py:2: FutureWarning: elementwise comparison failed; returning scalar instead, but in the future will perform elementwise comparison\n",
      "  \n"
     ]
    }
   ],
   "source": [
    "for fn in tile_paths:\n",
    "    if fn not in test_tile_paths:\n",
    "        symlink_fn = os.path.join(folder_A, os.path.basename(fn))\n",
    "        !ln -s $fn $symlink_fn\n",
    "    else:\n",
    "        symlink_fn_test = os.path.join(folder_A_test, os.path.split(fn)[-1])\n",
    "        !ln -s $fn $symlink_fn_test"
   ]
  },
  {
   "cell_type": "code",
   "execution_count": 15,
   "metadata": {},
   "outputs": [
    {
     "name": "stderr",
     "output_type": "stream",
     "text": [
      "/home/cstrauss2/.conda/envs/tfcondaenv.001.bk/lib/python3.7/site-packages/ipykernel_launcher.py:2: FutureWarning: elementwise comparison failed; returning scalar instead, but in the future will perform elementwise comparison\n",
      "  \n"
     ]
    }
   ],
   "source": [
    "for tile_fn in tile_paths:\n",
    "    if tile_fn in test_tile_paths:\n",
    "        folder = folder_B_test\n",
    "    else:\n",
    "        folder = folder_B\n",
    "    fn = os.path.join(\n",
    "            folder,\n",
    "            os.path.basename(tile_fn)\n",
    "    )\n",
    "    if 'tumor' in tile_fn:\n",
    "        Image.open(\n",
    "            os.path.join(\n",
    "                '/home/cstrauss2/Cancer16_AE/lesion_labels/',\n",
    "                os.path.basename(tile_fn)\n",
    "            )\n",
    "        ).resize(\n",
    "            (512, 512)\n",
    "        ).convert(\n",
    "            'RGB'\n",
    "        ).save(\n",
    "            fn\n",
    "        )\n",
    "    else:\n",
    "        Image.fromarray(np.zeros(shape=(512, 512, 3), dtype=np.uint8)).save(fn)\n",
    "        "
   ]
  }
 ],
 "metadata": {
  "kernelspec": {
   "display_name": "Python 3",
   "language": "python",
   "name": "python3"
  },
  "language_info": {
   "codemirror_mode": {
    "name": "ipython",
    "version": 3
   },
   "file_extension": ".py",
   "mimetype": "text/x-python",
   "name": "python",
   "nbconvert_exporter": "python",
   "pygments_lexer": "ipython3",
   "version": "3.7.6"
  }
 },
 "nbformat": 4,
 "nbformat_minor": 4
}
