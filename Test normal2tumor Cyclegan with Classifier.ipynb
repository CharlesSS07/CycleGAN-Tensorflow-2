{
 "cells": [
  {
   "cell_type": "code",
   "execution_count": null,
   "metadata": {},
   "outputs": [],
   "source": [
    "import numpy as np\n",
    "np.random.seed(1235) # set both numpy and tf seeds, to make results reproducible. note this must be done for both.\n",
    "\n",
    "import os\n",
    "os.environ['TF_CPP_MIN_LOG_LEVEL'] = '3'\n",
    "# set tf to print minimum\n",
    "\n",
    "import logging\n",
    "logging.getLogger(\"tensorflow\").setLevel(logging.ERROR)\n",
    "# allow tf to only print errors\n",
    "\n",
    "import tensorflow as tf\n",
    "tf.compat.v1.enable_eager_execution()\n",
    "from tensorflow.keras import layers\n",
    "tf.keras.backend.clear_session()\n",
    "gpus = tf.config.experimental.list_physical_devices('GPU')\n",
    "for gpu in gpus:\n",
    "    tf.config.experimental.set_memory_growth(gpu, True)\n",
    "# make tf use dynamic memory allocation on all gpus\n",
    "\n",
    "tf.random.set_seed(1234)\n",
    "\n",
    "import subprocess\n",
    "\n",
    "import datetime\n",
    "\n",
    "# import yaml\n",
    "\n",
    "# import imageio\n",
    "from PIL import Image\n",
    "\n",
    "import glob\n",
    "\n",
    "# from matplotlib import cm\n",
    "\n",
    "import IPython.display\n",
    "\n",
    "#from keras_tqdm import TQDMNotebookCallback # for jupyter notebooks"
   ]
  },
  {
   "cell_type": "code",
   "execution_count": null,
   "metadata": {},
   "outputs": [],
   "source": [
    "import importlib\n",
    "import sys\n",
    "sys.path.append('/home/cstrauss2/Cancer16_LatentAttack/')\n",
    "import Model\n",
    "# contains my models for classifier, autoencoder..."
   ]
  },
  {
   "cell_type": "code",
   "execution_count": null,
   "metadata": {},
   "outputs": [],
   "source": [
    "features = 36"
   ]
  },
  {
   "cell_type": "code",
   "execution_count": null,
   "metadata": {},
   "outputs": [],
   "source": [
    "ae = Model.Autoencoder.get_model(features=features)\n",
    "optimizer = tf.keras.optimizers.Adam(learning_rate=0.001) # tf.keras.optimizers.SGD(learning_rate=0.001) #\n",
    "ae.compile(\n",
    "    optimizer=optimizer,\n",
    "    loss='mse',\n",
    "    metrics=['mse', 'binary_crossentropy']\n",
    ")\n",
    "ae_folder = '/home/cstrauss2/Cancer16_AE/models/11_12/08_00'\n",
    "ae.load_weights(os.path.join(ae_folder, 'weights/weights'))"
   ]
  },
  {
   "cell_type": "code",
   "execution_count": null,
   "metadata": {},
   "outputs": [],
   "source": [
    "classifier = Model.Classifier.get_model(features=features)\n",
    "optimizer = tf.keras.optimizers.Adam(learning_rate=0.001) # tf.keras.optimizers.SGD(learning_rate=0.001) #\n",
    "classifier.compile(\n",
    "    optimizer=optimizer,\n",
    "    loss='mse',\n",
    "    metrics=['mse', 'binary_crossentropy']\n",
    ")\n",
    "classifier_folder = '/home/cstrauss2/Cancer16_Classifier/models/01_21/11_15'\n",
    "classifier.load_weights(os.path.join(classifier_folder, 'weights/weights'))"
   ]
  },
  {
   "cell_type": "code",
   "execution_count": null,
   "metadata": {},
   "outputs": [],
   "source": [
    "def heatmap(tile):\n",
    "    return classifier.predict(ae.encoder.predict(tile))"
   ]
  },
  {
   "cell_type": "code",
   "execution_count": null,
   "metadata": {},
   "outputs": [],
   "source": [
    "tiles = np.sort(glob.glob('/home/cstrauss2/CycleGAN-Tensorflow-2/datasets/camelyon16normal2tumor/trainA/tumor_110*png'))\n",
    "len(tiles)"
   ]
  },
  {
   "cell_type": "code",
   "execution_count": null,
   "metadata": {},
   "outputs": [],
   "source": [
    "def get_img(fn):\n",
    "    a = np.array(Image.open(fn))[:,:,:3].astype(np.float32)[np.newaxis]/255\n",
    "#     print('Real Image', a.shape)\n",
    "    return a * 2 - 1\n",
    "def clip_img(in_arry):\n",
    "    arry = np.copy(in_arry)\n",
    "    return np.clip(arry*255, 0, 255).astype(np.uint8)"
   ]
  },
  {
   "cell_type": "code",
   "execution_count": null,
   "metadata": {},
   "outputs": [],
   "source": [
    "import config"
   ]
  },
  {
   "cell_type": "code",
   "execution_count": null,
   "metadata": {},
   "outputs": [],
   "source": [
    "config.args.dataset"
   ]
  },
  {
   "cell_type": "code",
   "execution_count": null,
   "metadata": {},
   "outputs": [],
   "source": [
    "importlib.reload(config)"
   ]
  },
  {
   "cell_type": "code",
   "execution_count": null,
   "metadata": {},
   "outputs": [],
   "source": [
    "config.args.dataset = 'camelyon16normal2tumor'\n",
    "config.args.load_size = 512\n",
    "config.args.crop_size = 512\n",
    "config.args.identity_loss_weight = 5"
   ]
  },
  {
   "cell_type": "code",
   "execution_count": null,
   "metadata": {},
   "outputs": [],
   "source": [
    "import train as cycleGAN"
   ]
  },
  {
   "cell_type": "code",
   "execution_count": null,
   "metadata": {},
   "outputs": [],
   "source": [
    "test_img_A = get_img(tiles[1])\n",
    "Image.fromarray(clip_img((test_img_A[0]+1)/2)).resize([256, 256])"
   ]
  },
  {
   "cell_type": "code",
   "execution_count": null,
   "metadata": {},
   "outputs": [],
   "source": [
    "test_img_A.shape"
   ]
  },
  {
   "cell_type": "code",
   "execution_count": null,
   "metadata": {},
   "outputs": [],
   "source": [
    "def recur(func, depth, args):\n",
    "    if depth>0:\n",
    "        return recur(func, depth-1, func(args))\n",
    "    return args"
   ]
  },
  {
   "cell_type": "code",
   "execution_count": null,
   "metadata": {},
   "outputs": [],
   "source": [
    "test_img_B = recur(cycleGAN.G_A2B, depth=2, args=(cycleGAN.G_A2B(test_img_A, training=False))).numpy()\n",
    "test_img_B.shape"
   ]
  },
  {
   "cell_type": "code",
   "execution_count": null,
   "metadata": {},
   "outputs": [],
   "source": [
    "np.min(test_img_A), np.max(test_img_A), np.min(test_img_B), np.max(test_img_B)"
   ]
  },
  {
   "cell_type": "code",
   "execution_count": null,
   "metadata": {},
   "outputs": [],
   "source": [
    "delta = (test_img_A-test_img_B+1)/2\n",
    "np.min(delta), np.max(delta), np.std(delta)"
   ]
  },
  {
   "cell_type": "code",
   "execution_count": null,
   "metadata": {},
   "outputs": [],
   "source": [
    "delta_r = delta-np.min(delta)\n",
    "np.min(delta_r), np.max(delta_r), np.std(delta_r)"
   ]
  },
  {
   "cell_type": "code",
   "execution_count": null,
   "metadata": {},
   "outputs": [],
   "source": [
    "Image.fromarray(\n",
    "    clip_img(\n",
    "        np.concatenate(\n",
    "            [(test_img_A+1)/2, (test_img_B+1)/2, (delta_r)],\n",
    "            axis=2\n",
    "        )[0]\n",
    "    )\n",
    ")"
   ]
  },
  {
   "cell_type": "code",
   "execution_count": null,
   "metadata": {},
   "outputs": [],
   "source": [
    "Image.fromarray(\n",
    "    clip_img(\n",
    "        np.concatenate(\n",
    "            [heatmap((test_img_A+1)/2), heatmap((test_img_B+1)/2), heatmap((delta_r)/np.max(delta_r))],\n",
    "            axis=2\n",
    "        )[0,:,:,0]\n",
    "    )\n",
    ")"
   ]
  },
  {
   "cell_type": "code",
   "execution_count": null,
   "metadata": {},
   "outputs": [],
   "source": []
  },
  {
   "cell_type": "code",
   "execution_count": null,
   "metadata": {},
   "outputs": [],
   "source": []
  }
 ],
 "metadata": {
  "kernelspec": {
   "display_name": "Python 3",
   "language": "python",
   "name": "python3"
  },
  "language_info": {
   "codemirror_mode": {
    "name": "ipython",
    "version": 3
   },
   "file_extension": ".py",
   "mimetype": "text/x-python",
   "name": "python",
   "nbconvert_exporter": "python",
   "pygments_lexer": "ipython3",
   "version": "3.6.12"
  }
 },
 "nbformat": 4,
 "nbformat_minor": 4
}
