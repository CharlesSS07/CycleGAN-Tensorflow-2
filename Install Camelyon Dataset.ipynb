{
 "cells": [
  {
   "cell_type": "code",
   "execution_count": 1,
   "metadata": {},
   "outputs": [],
   "source": [
    "import glob"
   ]
  },
  {
   "cell_type": "code",
   "execution_count": 2,
   "metadata": {},
   "outputs": [],
   "source": [
    "import numpy as np"
   ]
  },
  {
   "cell_type": "code",
   "execution_count": 3,
   "metadata": {},
   "outputs": [],
   "source": [
    "label_paths = np.sort(glob.glob('../Cancer16_AE/lesion_labels/*png'))"
   ]
  },
  {
   "cell_type": "code",
   "execution_count": 4,
   "metadata": {},
   "outputs": [
    {
     "data": {
      "text/plain": [
       "array(['../Cancer16_AE/lesion_labels/tumor_001_0_122880.png',\n",
       "       '../Cancer16_AE/lesion_labels/tumor_001_0_131072.png',\n",
       "       '../Cancer16_AE/lesion_labels/tumor_001_16384_114688.png', ...,\n",
       "       '../Cancer16_AE/lesion_labels/tumor_111_73728_98304.png',\n",
       "       '../Cancer16_AE/lesion_labels/tumor_111_8192_131072.png',\n",
       "       '../Cancer16_AE/lesion_labels/tumor_111_8192_139264.png'],\n",
       "      dtype='<U55')"
      ]
     },
     "execution_count": 4,
     "metadata": {},
     "output_type": "execute_result"
    }
   ],
   "source": [
    "label_paths"
   ]
  },
  {
   "cell_type": "code",
   "execution_count": 5,
   "metadata": {},
   "outputs": [],
   "source": [
    "from PIL import Image"
   ]
  },
  {
   "cell_type": "code",
   "execution_count": 6,
   "metadata": {},
   "outputs": [],
   "source": [
    "tumor_areas = np.array([np.sum(np.array(Image.open(fn))) for fn in label_paths]).astype(np.float32)/255"
   ]
  },
  {
   "cell_type": "code",
   "execution_count": 7,
   "metadata": {},
   "outputs": [],
   "source": [
    "import pylab as pl"
   ]
  },
  {
   "cell_type": "code",
   "execution_count": 8,
   "metadata": {},
   "outputs": [
    {
     "data": {
      "text/plain": [
       "((11623,), 16384.0, 0.0)"
      ]
     },
     "execution_count": 8,
     "metadata": {},
     "output_type": "execute_result"
    }
   ],
   "source": [
    "tumor_areas.shape, np.max(tumor_areas), np.min(tumor_areas)"
   ]
  },
  {
   "cell_type": "code",
   "execution_count": 9,
   "metadata": {},
   "outputs": [
    {
     "data": {
      "text/plain": [
       "(array([240., 154., 116.,  98.,  67.,  71.,  45.,  47.,  43.,  43.,  42.,\n",
       "         42.,  33.,  28.,  47.]),\n",
       " array([ 1000,  2000,  3000,  4000,  5000,  6000,  7000,  8000,  9000,\n",
       "        10000, 11000, 12000, 13000, 14000, 15000, 16000]),\n",
       " <a list of 15 Patch objects>)"
      ]
     },
     "execution_count": 9,
     "metadata": {},
     "output_type": "execute_result"
    },
    {
     "data": {
      "image/png": "[encoded data removed]",
      "text/plain": [
       "<Figure size 432x288 with 1 Axes>"
      ]
     },
     "metadata": {
      "needs_background": "light"
     },
     "output_type": "display_data"
    }
   ],
   "source": [
    "pl.hist(tumor_areas, bins=np.arange(1000, 128*128, 1000))"
   ]
  },
  {
   "cell_type": "code",
   "execution_count": 10,
   "metadata": {},
   "outputs": [],
   "source": [
    "tumor_threshold = 0.1"
   ]
  },
  {
   "cell_type": "code",
   "execution_count": 11,
   "metadata": {},
   "outputs": [
    {
     "data": {
      "text/plain": [
       "1034"
      ]
     },
     "execution_count": 11,
     "metadata": {},
     "output_type": "execute_result"
    }
   ],
   "source": [
    "# number of tiles with at least tumor_threshold*100 precent tumor in the tile\n",
    "np.sum(tumor_areas>128*128*tumor_threshold)"
   ]
  },
  {
   "cell_type": "code",
   "execution_count": 12,
   "metadata": {},
   "outputs": [
    {
     "name": "stdout",
     "output_type": "stream",
     "text": [
      "1034\n"
     ]
    }
   ],
   "source": [
    "positive_enough_examples = []\n",
    "for i,a in enumerate(np.array(tumor_areas>128*128*tumor_threshold).astype(np.float32)):\n",
    "    if a==1:\n",
    "#         im = np.array(Image.open(label_paths[i]))/255\n",
    "        positive_enough_examples.append(label_paths[i])\n",
    "print(len(positive_enough_examples))"
   ]
  },
  {
   "cell_type": "code",
   "execution_count": 13,
   "metadata": {},
   "outputs": [
    {
     "name": "stdout",
     "output_type": "stream",
     "text": [
      "/home/cstrauss2/CycleGAN-Tensorflow-2\r\n"
     ]
    }
   ],
   "source": [
    "!pwd"
   ]
  },
  {
   "cell_type": "code",
   "execution_count": 14,
   "metadata": {},
   "outputs": [],
   "source": [
    "import os"
   ]
  },
  {
   "cell_type": "code",
   "execution_count": 15,
   "metadata": {},
   "outputs": [],
   "source": [
    "root_data_folder = 'datasets/camelyon16normal2tumor/'"
   ]
  },
  {
   "cell_type": "code",
   "execution_count": 49,
   "metadata": {},
   "outputs": [],
   "source": [
    "if os.path.isdir(root_data_folder):\n",
    "    !rm -r $root_data_folder"
   ]
  },
  {
   "cell_type": "code",
   "execution_count": 50,
   "metadata": {},
   "outputs": [],
   "source": [
    "!mkdir -p $root_data_folder"
   ]
  },
  {
   "cell_type": "code",
   "execution_count": 16,
   "metadata": {},
   "outputs": [],
   "source": [
    "folder_A = os.path.join(root_data_folder, 'trainA')\n",
    "folder_B = os.path.join(root_data_folder, 'trainB')\n",
    "folder_A_test = os.path.join(root_data_folder, 'testA')\n",
    "folder_B_test = os.path.join(root_data_folder, 'testB')"
   ]
  },
  {
   "cell_type": "code",
   "execution_count": 52,
   "metadata": {},
   "outputs": [],
   "source": [
    "!mkdir -p $folder_A $folder_A_test $folder_B $folder_B_test"
   ]
  },
  {
   "cell_type": "code",
   "execution_count": 18,
   "metadata": {},
   "outputs": [
    {
     "name": "stdout",
     "output_type": "stream",
     "text": [
      "testA  testB  trainA  trainB\r\n"
     ]
    }
   ],
   "source": [
    "!ls $root_data_folder"
   ]
  },
  {
   "cell_type": "code",
   "execution_count": 54,
   "metadata": {},
   "outputs": [],
   "source": [
    "for fn in positive_enough_examples:\n",
    "    tile_fn = os.path.join('/home/cstrauss2/Cancer16_AE/train16_L3/tumor',os.path.split(fn)[-1])\n",
    "    symlink_fn = os.path.join(folder_A, os.path.split(fn)[-1])\n",
    "    !ln -s $tile_fn $symlink_fn\n",
    "    symlink_fn_test = os.path.join(folder_A_test, os.path.split(fn)[-1])\n",
    "    !ln -s $tile_fn $symlink_fn_test"
   ]
  },
  {
   "cell_type": "code",
   "execution_count": 19,
   "metadata": {},
   "outputs": [],
   "source": [
    "for tile_fn in np.sort(glob.glob('/home/cstrauss2/Cancer16_AE/train16_L3/normal/*png')):\n",
    "    if np.random.uniform()>0.80:\n",
    "        symlink_fn_test = os.path.join(folder_B_test, os.path.split(tile_fn)[-1])\n",
    "        !ln -s $tile_fn $symlink_fn_test\n",
    "    else:\n",
    "        symlink_fn = os.path.join(folder_B, os.path.split(tile_fn)[-1])\n",
    "        !ln -s $tile_fn $symlink_fn"
   ]
  }
 ],
 "metadata": {
  "kernelspec": {
   "display_name": "Python 3",
   "language": "python",
   "name": "python3"
  },
  "language_info": {
   "codemirror_mode": {
    "name": "ipython",
    "version": 3
   },
   "file_extension": ".py",
   "mimetype": "text/x-python",
   "name": "python",
   "nbconvert_exporter": "python",
   "pygments_lexer": "ipython3",
   "version": "3.7.3"
  }
 },
 "nbformat": 4,
 "nbformat_minor": 4
}
